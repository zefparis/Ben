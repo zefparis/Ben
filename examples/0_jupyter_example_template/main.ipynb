{
 "cells": [
  {
   "cell_type": "markdown",
   "source": [
    "# Your Example Title Here\n",
    "\n",
    "This example will show\n",
    "- How to ...\n",
    "- How to ...\n",
    "\n",
    "\n",
    "## Background (If needed)\n",
    "\n",
    "The background of your example here. \n",
    "\n",
    "\n",
    "## Tested Models\n",
    "\n",
    "These models are tested in this example. For other models, some modifications may be needed. \n",
    "- xxx\n",
    "- xxx   \n",
    "\n",
    "\n",
    "## Prerequisites\n",
    "\n",
    "Fill the next cell to meet the following requirements \n",
    "- The requirements to execute this example\n",
    "- ...\n",
    "- [Optional] Optional requirements\n",
    "- ...\n"
   ],
   "metadata": {
    "collapsed": false
   },
   "id": "5f0c2fc19efe575e"
  },
  {
   "cell_type": "code",
   "execution_count": null,
   "outputs": [],
   "source": [
    "# The prerequisites, e.g.\n",
    "bing_api_key = \"xxx\"\n",
    "\n",
    "your_model_configuration_name = \"xxx\"\n",
    "\n",
    "your_model_configuration = {\n",
    "    \"model_type\": \"xxx\", \n",
    "    \"config_name\": your_model_configuration_name,\n",
    "    \n",
    "    # ...\n",
    "}"
   ],
   "metadata": {
    "collapsed": false,
    "is_executing": true
   },
   "id": "596cca552b163051"
  },
  {
   "cell_type": "code",
   "execution_count": null,
   "outputs": [],
   "source": [],
   "metadata": {
    "collapsed": false
   },
   "id": "966b96e4893709a5"
  },
  {
   "cell_type": "markdown",
   "source": [],
   "metadata": {
    "collapsed": false
   },
   "id": "7cbb4630bf5e2c15"
  }
 ],
 "metadata": {
  "kernelspec": {
   "display_name": "Python 3",
   "language": "python",
   "name": "python3"
  },
  "language_info": {
   "codemirror_mode": {
    "name": "ipython",
    "version": 2
   },
   "file_extension": ".py",
   "mimetype": "text/x-python",
   "name": "python",
   "nbconvert_exporter": "python",
   "pygments_lexer": "ipython2",
   "version": "2.7.6"
  }
 },
 "nbformat": 4,
 "nbformat_minor": 5
}